{
 "cells": [
  {
   "cell_type": "code",
   "execution_count": null,
   "metadata": {},
   "outputs": [],
   "source": [
    "import pandas \n",
    "import warnings\n",
    "\n",
    "warnings.filterwarnings(\"ignore\")"
   ]
  },
  {
   "cell_type": "code",
   "execution_count": null,
   "metadata": {},
   "outputs": [],
   "source": [
    "data_frame = pandas.read_excel(\"D:\\\\master2\\\\powerBI\\\\Tp\\\\files\\\\Etudiants.xlsx\")"
   ]
  },
  {
   "cell_type": "code",
   "execution_count": null,
   "metadata": {},
   "outputs": [],
   "source": [
    "data_frame.head(5)"
   ]
  },
  {
   "cell_type": "code",
   "execution_count": null,
   "metadata": {},
   "outputs": [],
   "source": [
    "data_frame.tail(5)"
   ]
  },
  {
   "cell_type": "code",
   "execution_count": null,
   "metadata": {},
   "outputs": [],
   "source": [
    "data_frame.shape"
   ]
  },
  {
   "cell_type": "code",
   "execution_count": null,
   "metadata": {},
   "outputs": [],
   "source": [
    "data_frame.info() # this is desc in sql basically it gives you the data type of each column and the number of non null values"
   ]
  },
  {
   "cell_type": "code",
   "execution_count": null,
   "metadata": {},
   "outputs": [],
   "source": [
    "data_frame.describe() # Returns Series or DataFrame Summary statistics of the Series or Dataframe provided.\n"
   ]
  },
  {
   "cell_type": "code",
   "execution_count": null,
   "metadata": {},
   "outputs": [],
   "source": [
    "data_frame.iloc[0:1]  # iloc is used to select rows and columns by number, in the order that they appear in the data frame"
   ]
  },
  {
   "cell_type": "code",
   "execution_count": 22,
   "metadata": {},
   "outputs": [
    {
     "data": {
      "text/plain": [
       "array(['CD000001', 'BOUZIDI AMINE', '09/03/2000', 'FES', 14.29,\n",
       "       'sciences mathématiques a', 14.07, 'SMI', 3.0], dtype=object)"
      ]
     },
     "execution_count": 22,
     "metadata": {},
     "output_type": "execute_result"
    }
   ],
   "source": [
    "data_frame.iloc[0].values # this will return the first row as a list"
   ]
  },
  {
   "cell_type": "code",
   "execution_count": null,
   "metadata": {},
   "outputs": [],
   "source": [
    "data_frame[\"Date de Naissance\"] # this will return the column Date de Naissance"
   ]
  },
  {
   "cell_type": "code",
   "execution_count": null,
   "metadata": {},
   "outputs": [],
   "source": [
    "data_frame.columns # this will return the columns names as a list"
   ]
  },
  {
   "cell_type": "code",
   "execution_count": null,
   "metadata": {},
   "outputs": [],
   "source": [
    "data_frame[[\"CIN\", \"Date de Naissance\"]].iloc[0:1] # this will return the first row of the columns CIN and Date de Naissance"
   ]
  },
  {
   "cell_type": "code",
   "execution_count": null,
   "metadata": {},
   "outputs": [],
   "source": [
    "data_frame[data_frame[\"Note Bac\"]>14] # this will return the rows where the value of the column Note Bac is greater than 14\n",
    "#its called filtering"
   ]
  },
  {
   "cell_type": "code",
   "execution_count": null,
   "metadata": {},
   "outputs": [],
   "source": [
    "data_frame[(data_frame[\"Lieu de Naissance\"]=='FES')| (data_frame[\"Lieu de Naissance\"]=='RABAT')] \n",
    "# this will return the rows where the value of the column Lieu de Naissance is FES or RABAT"
   ]
  },
  {
   "cell_type": "code",
   "execution_count": null,
   "metadata": {},
   "outputs": [],
   "source": [
    "data_frame.duplicated() # this will return a boolean series where True means that the row is duplicated\n"
   ]
  },
  {
   "cell_type": "code",
   "execution_count": null,
   "metadata": {},
   "outputs": [],
   "source": [
    "# data_frame.drop_duplicates().duplicated()\n",
    "data_frame.drop_duplicates()  # use in drop_duplicates(inplace = true) to change the data frame \n",
    "# or a new variable to store the new unique valuse "
   ]
  },
  {
   "cell_type": "code",
   "execution_count": null,
   "metadata": {},
   "outputs": [],
   "source": [
    "data_frame[data_frame[\"Note Bac\"].isna()]\n",
    "# data_frame[\"Note Bac\"].isna()"
   ]
  },
  {
   "cell_type": "code",
   "execution_count": null,
   "metadata": {},
   "outputs": [],
   "source": [
    "data_frame[(data_frame[\"Note Bac\"].isna() ) | (data_frame[\"Option Licence\"].isna())]"
   ]
  },
  {
   "cell_type": "code",
   "execution_count": null,
   "metadata": {},
   "outputs": [],
   "source": [
    "data_frame[data_frame.isna().any(axis=1)] # this will return the rows where there is at least one null value"
   ]
  },
  {
   "cell_type": "code",
   "execution_count": null,
   "metadata": {},
   "outputs": [],
   "source": [
    "data_frame.isnull().sum() # this will return the number of null values in each column"
   ]
  },
  {
   "cell_type": "code",
   "execution_count": null,
   "metadata": {},
   "outputs": [],
   "source": [
    "data_frame.isnull().any(axis=1) # this will return a boolean series where True means that the row has at least one null value"
   ]
  },
  {
   "cell_type": "code",
   "execution_count": null,
   "metadata": {},
   "outputs": [],
   "source": [
    "data_frame.fillna(\"NULL\") # this will replace all the null values with the string \"NULL\""
   ]
  },
  {
   "cell_type": "code",
   "execution_count": null,
   "metadata": {},
   "outputs": [],
   "source": [
    "data_frame.dropna() # this will remove all the rows that contain at least one null value"
   ]
  },
  {
   "cell_type": "code",
   "execution_count": null,
   "metadata": {},
   "outputs": [],
   "source": [
    "nom = []\n",
    "prenom = []\n",
    "\n",
    "for i in range(len(data_frame)):\n",
    "    print(\n",
    "    \"nom : \" , data_frame[\"Nom et Prenom\"].iloc[i].split()[0],\n",
    "    \"prenom: \",data_frame[\"Nom et Prenom\"].iloc[i].split()[1]\n",
    "    )\n",
    "for i in range(len(data_frame)):\n",
    "    nom.append( data_frame[\"Nom et Prenom\"].iloc[i].split()[0])\n",
    "    prenom.append (data_frame[\"Nom et Prenom\"].iloc[i].split()[1])\n",
    "print(nom)\n",
    "print(prenom)\n",
    "# this split the column Nom et Prenom into two columns Nom and Prenom\n",
    "\n"
   ]
  },
  {
   "cell_type": "code",
   "execution_count": null,
   "metadata": {},
   "outputs": [],
   "source": [
    "data_frame.insert(1,\"nom\",nom,True) # this will insert the column nom at the index 1\n",
    "data_frame"
   ]
  },
  {
   "cell_type": "code",
   "execution_count": null,
   "metadata": {},
   "outputs": [],
   "source": [
    "data_frame.insert(2,\"prenom\",prenom,True) # this will insert the column prenom at the index 2\n",
    "data_frame"
   ]
  },
  {
   "cell_type": "code",
   "execution_count": null,
   "metadata": {},
   "outputs": [],
   "source": [
    "data_frame.drop(\"Nom et Prenom\" ,axis=1) # this will remove the column Nom et Prenom"
   ]
  },
  {
   "cell_type": "code",
   "execution_count": null,
   "metadata": {},
   "outputs": [],
   "source": [
    "data_frame[[\"nom\",\"prenom\"]] = data_frame['Nom et Prenom'].str.split(' ', expand= True) \n",
    "# this will split the column Nom et Prenom into two columns nom and prenom"
   ]
  },
  {
   "cell_type": "code",
   "execution_count": null,
   "metadata": {},
   "outputs": [],
   "source": [
    "\n",
    "data_frame[\"Date de Naissance\"] = pandas.to_datetime(data_frame[\"Date de Naissance\"],format= 'mixed') \n",
    "# this will convert the column Date de Naissance to datetime\n",
    "data_frame"
   ]
  },
  {
   "cell_type": "code",
   "execution_count": null,
   "metadata": {},
   "outputs": [],
   "source": [
    "data_frame[\"Date de Naissance\"] = data_frame[\"Date de Naissance\"].dt.strftime(\"%d/%m/%y\")\n",
    "data_frame"
   ]
  },
  {
   "cell_type": "code",
   "execution_count": null,
   "metadata": {},
   "outputs": [],
   "source": [
    "data_frame[\"Option Bac\"] = data_frame[\"Option Bac\"].str.upper() # this will convert the column Option Bac to uppercase\n",
    "data_frame"
   ]
  },
  {
   "cell_type": "code",
   "execution_count": null,
   "metadata": {},
   "outputs": [],
   "source": [
    "print(data_frame[\"Option Bac\"].unique) # this will return the unique values of the column Option Bac"
   ]
  },
  {
   "cell_type": "code",
   "execution_count": null,
   "metadata": {},
   "outputs": [],
   "source": [
    "def normalizeOptionFun(data_frame):\n",
    "    for i in range(len(data_frame)):\n",
    "        if(data_frame[\"Option Licence\"].iloc[i] == \"Sciences Mathématiques et Informatique\" ):\n",
    "            data_frame[\"Option Licence\"].iloc[i] = 'SMI'\n",
    "        elif (\n",
    "            data_frame[\"Option Licence\"].iloc[i]\n",
    "            == \"Sciences Mathématiques et Applications\"\n",
    "        ):\n",
    "            data_frame[\"Option Licence\"].iloc[i] = 'SMA'\n",
    "        elif data_frame[\"Option Licence\"].iloc[i] == \"Sciences de la Matière Physique\":\n",
    "            data_frame[\"Option Licence\"].iloc[i] ='SMP'\n",
    "        elif data_frame[\"Option Licence\"].iloc[i] == \"Sciences de la Matière Chimie\":\n",
    "            data_frame[\"Option Licence\"].iloc[i] = 'SMC'\n",
    "        elif data_frame[\"Option Licence\"].iloc[i] == \"Sciences de la Vie\":\n",
    "            data_frame[\"Option Licence\"].iloc[i] = \"SVI\"\n",
    "        data_frame\n",
    "    return data_frame\n",
    "# this function will normalize the values of the column Option Licence\n",
    "data_frame = normalizeOptionFun(data_frame)\n",
    "data_frame"
   ]
  }
 ],
 "metadata": {
  "kernelspec": {
   "display_name": "Python 3",
   "language": "python",
   "name": "python3"
  },
  "language_info": {
   "codemirror_mode": {
    "name": "ipython",
    "version": 3
   },
   "file_extension": ".py",
   "mimetype": "text/x-python",
   "name": "python",
   "nbconvert_exporter": "python",
   "pygments_lexer": "ipython3",
   "version": "3.12.2"
  }
 },
 "nbformat": 4,
 "nbformat_minor": 2
}
