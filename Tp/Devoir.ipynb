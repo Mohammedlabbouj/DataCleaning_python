{
 "cells": [
  {
   "cell_type": "code",
   "execution_count": null,
   "metadata": {},
   "outputs": [],
   "source": [
    "import pandas \n",
    "import warnings \n",
    "\n",
    "warnings.filterwarnings(\"ignore\")"
   ]
  },
  {
   "cell_type": "code",
   "execution_count": null,
   "metadata": {},
   "outputs": [],
   "source": [
    "# Load the data fom the Mlaim.csv file\n",
    "data_frame = pandas.read_csv(\"D:\\\\master2\\\\powerBI\\\\Tp\\\\files\\\\MLAIM.csv\")\n",
    "\n",
    "data_frame"
   ]
  },
  {
   "cell_type": "code",
   "execution_count": null,
   "metadata": {},
   "outputs": [],
   "source": [
    "data_frame.dropna(inplace=True)\n",
    "data_frame"
   ]
  },
  {
   "cell_type": "code",
   "execution_count": null,
   "metadata": {},
   "outputs": [],
   "source": [
    "data_frame.drop_duplicates(inplace=True)\n",
    "data_frame"
   ]
  },
  {
   "cell_type": "code",
   "execution_count": null,
   "metadata": {},
   "outputs": [],
   "source": [
    "data_frame[\"Date_Naissance\"] = pandas.to_datetime(data_frame[\"Date_Naissance\"], format=\"mixed\")\n",
    "data_frame"
   ]
  },
  {
   "cell_type": "code",
   "execution_count": null,
   "metadata": {},
   "outputs": [],
   "source": [
    "age = []\n",
    "for i in data_frame[\"Date_Naissance\"]:\n",
    "    age.append(2025 - i.year)\n",
    "data_frame.insert(3, \"Age\", age)\n",
    "data_frame"
   ]
  },
  {
   "cell_type": "code",
   "execution_count": null,
   "metadata": {},
   "outputs": [],
   "source": [
    "import re\n",
    "name = []\n",
    "last_name = []\n",
    "email = []\n",
    "for i in range(len(data_frame)):\n",
    "    name.append(data_frame.iloc[i].values[0])\n",
    "    last_name.append(data_frame.iloc[i].values[1])\n",
    "    email.append(name[i].lower().replace(\"-\", \"\").replace(\" \",\"\") + \".\" + last_name[i].lower().replace(\" \" , \"\").replace(\"-\",\"\") + \"@usmba.ac.ma\")\n",
    "data_frame[\"Email\"] = email\n",
    "\n",
    "data_frame\n",
    "\n"
   ]
  },
  {
   "cell_type": "code",
   "execution_count": null,
   "metadata": {},
   "outputs": [],
   "source": [
    "# Create a new column 'Accepted' based on conditions\n",
    "data_frame[\"Accepted\"] = \"No\"  # Set default value\n",
    "\n",
    "# Use logical operators correctly for multiple conditions\n",
    "condition = (data_frame[\"Age\"] <= 21) & (\n",
    "    (data_frame[\"Ville_Naissance\"] == \"FES\")\n",
    "    | (data_frame[\"Ville_Naissance\"] == \"MEKNES\")\n",
    ")\n",
    "\n",
    "# Apply the condition to set \"Yes\" values\n",
    "data_frame.loc[condition, \"Accepted\"] = \"Yes\"\n",
    "data_frame"
   ]
  },
  {
   "cell_type": "code",
   "execution_count": null,
   "metadata": {},
   "outputs": [],
   "source": [
    "# now save the file in a new csv file\n",
    "data_frame.to_excel(\"D:\\\\master2\\\\powerBI\\\\Tp\\\\files\\\\MLAIM_cleaned.xlsx\", index=False)"
   ]
  }
 ],
 "metadata": {
  "kernelspec": {
   "display_name": "Python 3",
   "language": "python",
   "name": "python3"
  },
  "language_info": {
   "codemirror_mode": {
    "name": "ipython",
    "version": 3
   },
   "file_extension": ".py",
   "mimetype": "text/x-python",
   "name": "python",
   "nbconvert_exporter": "python",
   "pygments_lexer": "ipython3",
   "version": "3.12.2"
  }
 },
 "nbformat": 4,
 "nbformat_minor": 2
}
